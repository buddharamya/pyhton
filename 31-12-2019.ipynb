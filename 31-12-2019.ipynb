{
 "cells": [
  {
   "cell_type": "markdown",
   "metadata": {},
   "source": [
    "# Loops Concept In Python"
   ]
  },
  {
   "cell_type": "markdown",
   "metadata": {},
   "source": [
    "## while loop\n",
    "    "
   ]
  },
  {
   "cell_type": "markdown",
   "metadata": {},
   "source": [
    "Syntax:\n",
    "\n",
    " while(condition):\n",
    " \n",
    "   Statements"
   ]
  },
  {
   "cell_type": "code",
   "execution_count": 8,
   "metadata": {},
   "outputs": [
    {
     "name": "stdout",
     "output_type": "stream",
     "text": [
      "1 day to go\n",
      "1 day to go\n",
      "welcome newyear\n"
     ]
    }
   ],
   "source": [
    "count=0\n",
    "while(count<2):\n",
    "    count=count+1\n",
    "    print(\"1 day to go\")\n",
    "print(\"welcome newyear\")"
   ]
  },
  {
   "cell_type": "markdown",
   "metadata": {},
   "source": [
    "## while-else loop"
   ]
  },
  {
   "cell_type": "markdown",
   "metadata": {},
   "source": [
    "#### syntax:\n",
    "while condition: \n",
    "    # execute these statements \n",
    "else: \n",
    "    # execute these statements "
   ]
  },
  {
   "cell_type": "code",
   "execution_count": 9,
   "metadata": {},
   "outputs": [
    {
     "name": "stdout",
     "output_type": "stream",
     "text": [
      "1 day to go\n",
      "1 day to go\n",
      "welcome newyear\n"
     ]
    }
   ],
   "source": [
    "count=0\n",
    "while(count<2):\n",
    "    count=count+1\n",
    "    print(\"1 day to go\")\n",
    "else:\n",
    "    print(\"welcome newyear\")"
   ]
  },
  {
   "cell_type": "markdown",
   "metadata": {},
   "source": [
    "# if loop"
   ]
  },
  {
   "cell_type": "code",
   "execution_count": 71,
   "metadata": {},
   "outputs": [
    {
     "name": "stdout",
     "output_type": "stream",
     "text": [
      "enter  a number:2\n",
      "hello\n"
     ]
    }
   ],
   "source": [
    "count=int(input(\"enter  a number:\"))\n",
    "\n",
    "if(count==2):\n",
    "    print(\"hello\")\n",
    "else:\n",
    "    print(\"hai\")"
   ]
  },
  {
   "cell_type": "code",
   "execution_count": null,
   "metadata": {},
   "outputs": [],
   "source": []
  },
  {
   "cell_type": "markdown",
   "metadata": {},
   "source": [
    "# Operators in Python"
   ]
  },
  {
   "cell_type": "markdown",
   "metadata": {},
   "source": [
    "- Arithmetic Operator  {+ ,- ,/ , // ,* ,% ,** }\n",
    "- Logical Operator     {AND,OR,NOT}\n",
    "- Relational Operator  {== ,!= ,<= ,>=}\n",
    "- Bitwise Operator     {<< ,>> ,^ ,~ ,& ,|}\n",
    "- Assignment Operator  {+= ,-= ,/= ,*= ,%=}\n",
    "- Membership Operator  {in , not in}\n",
    "- Identity Operator    {is ,is not}"
   ]
  },
  {
   "cell_type": "markdown",
   "metadata": {},
   "source": [
    "### Arithmetic operator\n",
    "\n",
    "8\n",
    "7\n",
    "addition of 8 and 7 is? "
   ]
  },
  {
   "cell_type": "code",
   "execution_count": 39,
   "metadata": {},
   "outputs": [
    {
     "name": "stdout",
     "output_type": "stream",
     "text": [
      "enter 1st num: 1\n",
      "enter 2nd num: 2\n",
      "addition of 1 and 2 is 3\n",
      "subtraction of 1 and 2 is -1\n",
      "multiplication of 1 and 2 is 2\n",
      "Division of 1 and 2 is 0.5\n",
      "float division of 1 and 2 is 0\n",
      "exponent of 1 and 2 is 1\n"
     ]
    }
   ],
   "source": [
    "x = int(input(\"enter 1st num: \"))\n",
    "y= int(input(\"enter 2nd num: \"))\n",
    "print(\"addition of\",x,\"and\",y,\"is\",x+y)\n",
    "print(\"subtraction of %d and %d is %d\"%(x,y,x-y))\n",
    "print(\"multiplication of {0} and {1} is {2}\".format(x,y,x*y))\n",
    "print(\"Division of {0} and {1} is {2}\".format(x,y,x/y))\n",
    "print(\"float division of {0} and {1} is {2}\".format(x,y,x//y))\n",
    "print(\"exponent of {0} and {1} is {2}\".format(x,y,x**y))"
   ]
  },
  {
   "cell_type": "markdown",
   "metadata": {},
   "source": [
    "### Logical Operator"
   ]
  },
  {
   "cell_type": "code",
   "execution_count": 67,
   "metadata": {},
   "outputs": [
    {
     "name": "stdout",
     "output_type": "stream",
     "text": [
      "enter 1st num: True\n",
      "enter 2nd num: fale\n",
      "AND operation fale\n",
      "OR operation  True\n",
      "False\n",
      "False\n"
     ]
    }
   ],
   "source": [
    "x = input(\"enter 1st num: \")\n",
    "y= input(\"enter 2nd num: \")\n",
    "print(\"AND operation\",x and y)\n",
    "print(\"OR operation \",x or y)\n",
    "print(not x)\n",
    "print(not y)"
   ]
  },
  {
   "cell_type": "markdown",
   "metadata": {},
   "source": [
    "### Bitwise Operator"
   ]
  },
  {
   "cell_type": "code",
   "execution_count": 70,
   "metadata": {},
   "outputs": [
    {
     "name": "stdout",
     "output_type": "stream",
     "text": [
      "0\n",
      "7\n",
      "7\n",
      "-6\n",
      "40\n",
      "2\n"
     ]
    }
   ],
   "source": [
    "a=5\n",
    "b=2\n",
    "print(a&b)\n",
    "print(a|b)\n",
    "print(a^b)\n",
    "print(~a)\n",
    "print(a<<3)\n",
    "print(a>>1)"
   ]
  },
  {
   "cell_type": "markdown",
   "metadata": {},
   "source": [
    "### Relational Operators"
   ]
  },
  {
   "cell_type": "code",
   "execution_count": 65,
   "metadata": {},
   "outputs": [
    {
     "name": "stdout",
     "output_type": "stream",
     "text": [
      "False\n",
      "False\n",
      "True\n",
      "True\n"
     ]
    }
   ],
   "source": [
    "a=5\n",
    "b=2\n",
    "print(a==b)\n",
    "print(a<=b)\n",
    "print(a>=b)\n",
    "print(a!=b)"
   ]
  },
  {
   "cell_type": "markdown",
   "metadata": {},
   "source": [
    "# Conditional Statements\n",
    "\n",
    " -To check whether thecondition is true or false\n",
    " \n",
    "   - if\n",
    "   #### Syntax\n",
    "     if (condition):\n",
    "         statements\n",
    "     \n",
    "   - if-else\n",
    "   #### Syntax\n",
    "       if(condition):\n",
    "           statement\n",
    "       else:\n",
    "           statement\n",
    "   - elif\n",
    "   #### Syntax\n",
    "       if(condition1):\n",
    "           statement1\n",
    "       elif(condition 2):\n",
    "           statement2\n",
    "           \n",
    "       elif(condition3):\n",
    "           statement3\n",
    "           \n",
    "           \n",
    "       elif(condition m):\n",
    "           statement m\n",
    "   - nested if\n",
    "   #### Syntax\n",
    "   \n",
    "       if(condition1):\n",
    "           if(condition2):\n",
    "               statementx\n",
    "           else:\n",
    "               statementy\n",
    "       else:\n",
    "           statementz\n",
    "           "
   ]
  },
  {
   "cell_type": "code",
   "execution_count": 77,
   "metadata": {},
   "outputs": [
    {
     "name": "stdout",
     "output_type": "stream",
     "text": [
      "1\n",
      "1\n",
      "1 and 1 are equal\n"
     ]
    }
   ],
   "source": [
    "x = int(input())\n",
    "y = int(input())\n",
    "if(x==y):\n",
    "    print(\"{} and {} are equal\".format(x,y))\n"
   ]
  },
  {
   "cell_type": "code",
   "execution_count": 88,
   "metadata": {},
   "outputs": [
    {
     "name": "stdout",
     "output_type": "stream",
     "text": [
      "4\n",
      "4 is a composite no\n"
     ]
    }
   ],
   "source": [
    "x = int(input())\n",
    "\n",
    "if(x%2==0 and x!=2):\n",
    "   print(\"{} is a composite no\".format(x))\n",
    "   \n",
    "else:\n",
    "    print(\"{} is a prime no\".format(x))\n",
    "   "
   ]
  },
  {
   "cell_type": "code",
   "execution_count": 90,
   "metadata": {},
   "outputs": [
    {
     "name": "stdout",
     "output_type": "stream",
     "text": [
      "12\n",
      "not eligible for voting\n"
     ]
    }
   ],
   "source": [
    "x=int(input())\n",
    "if(x>=18):\n",
    "    print(\"eligible for voting\")\n",
    "else:\n",
    "    print(\"not eligible for voting\")\n"
   ]
  },
  {
   "cell_type": "code",
   "execution_count": 94,
   "metadata": {},
   "outputs": [
    {
     "name": "stdout",
     "output_type": "stream",
     "text": [
      "18\n",
      "eligible for voting\n",
      "the person has been voting for 0 years\n"
     ]
    }
   ],
   "source": [
    "x=int(input())\n",
    "if(x>=18):\n",
    "    print(\"eligible for voting\")\n",
    "    print(\"the person has been voting from {} years\".format(x-18))\n",
    "else:\n",
    "    print(\"not eligible for voting\")\n",
    "    print(\"the person should wait for {} years to vote\".format(18-x))\n",
    "    "
   ]
  },
  {
   "cell_type": "code",
   "execution_count": 4,
   "metadata": {},
   "outputs": [
    {
     "name": "stdout",
     "output_type": "stream",
     "text": [
      "9\n",
      "9 is a prime num\n"
     ]
    }
   ],
   "source": [
    "x=int(input())\n",
    "\n",
    "\n",
    "if(x<=10):\n",
    "    if(x%2==0):\n",
    "        print(\"{} is composite number\".format(x))\n",
    "    else:\n",
    "        print(\"{} is a prime num\".format(x))\n",
    "else:\n",
    "    print(\"{} is greater than 10\".format(x))"
   ]
  },
  {
   "cell_type": "markdown",
   "metadata": {},
   "source": [
    "# UserID and pin checking"
   ]
  },
  {
   "cell_type": "markdown",
   "metadata": {},
   "source": [
    "userid=345\n",
    "pin=234\n",
    "\n",
    "Input:321\n",
    "      234\n",
    "Output:Invalid userID or pin"
   ]
  },
  {
   "cell_type": "markdown",
   "metadata": {},
   "source": [
    "##### Dynamically "
   ]
  },
  {
   "cell_type": "code",
   "execution_count": 8,
   "metadata": {},
   "outputs": [
    {
     "name": "stdout",
     "output_type": "stream",
     "text": [
      "enter userid and pin\n",
      "123\n",
      "12\n",
      "reenter the userid and pin\n",
      "21\n",
      "21\n",
      "invalid userid 21 or pin\n"
     ]
    }
   ],
   "source": [
    "print(\"enter userid and pin\")\n",
    "userid=input()\n",
    "pin=input()\n",
    "print(\"reenter the userid and pin for conformation\")\n",
    "x=input()\n",
    "y=input()\n",
    "if(x==userid and y==pin):\n",
    "    print(\"welcome user {}\".format(userid))\n",
    "else:\n",
    "    print(\"invalid userid {} or pin\".format(x))\n"
   ]
  },
  {
   "cell_type": "markdown",
   "metadata": {},
   "source": [
    "##### statically"
   ]
  },
  {
   "cell_type": "code",
   "execution_count": 5,
   "metadata": {},
   "outputs": [
    {
     "name": "stdout",
     "output_type": "stream",
     "text": [
      "234\n",
      "322\n",
      "invalid userid 234 or pin\n"
     ]
    }
   ],
   "source": [
    "uid=int(input())\n",
    "pin=int(input())\n",
    "if(uid==322 and pin==234):\n",
    "    print(\"welcome user {} \".format(uid))\n",
    "else:\n",
    "    print(\"invalid userid {} or pin\".format(uid))"
   ]
  },
  {
   "cell_type": "markdown",
   "metadata": {},
   "source": [
    "statically give values to uid=785 and pin=009\n",
    "input:789\n",
    "output:invalid userid 789\n",
    "    \n",
    "input:785\n",
    "      34\n",
    "output:invalid userid 785 or pin\n",
    "    \n",
    "input:785\n",
    "      009\n",
    "output:welcome userid 785"
   ]
  },
  {
   "cell_type": "code",
   "execution_count": 9,
   "metadata": {},
   "outputs": [
    {
     "name": "stdout",
     "output_type": "stream",
     "text": [
      "enter userid and pin\n",
      "123]\n",
      "21\n",
      "reenter userid and pin for confirmation\n",
      "123]\n",
      "21\n",
      "welcome user 123]\n"
     ]
    }
   ],
   "source": [
    "print(\"enter userid and pin\")\n",
    "uid=input()\n",
    "pin=input()\n",
    "print(\"reenter userid and pin for confirmation\")\n",
    "x=input()\n",
    "if(x==uid):\n",
    "    y=input()\n",
    "    if(y==pin):\n",
    "        print(\"welcome user {}\".format(x))\n",
    "    else:\n",
    "        print(\"invalid userid {} or pin\".format(x))\n",
    "else:\n",
    "    print(\"invalid userid {}\".format(x))"
   ]
  },
  {
   "cell_type": "markdown",
   "metadata": {},
   "source": [
    "...\n",
    "input:16\n",
    "output:16 is divisible by 2\n",
    "    \n",
    "input:5 \n",
    "output:given num 5 is not divisible by 2 so output will be 5.0\n",
    "    \n",
    "input:9\n",
    "output:given num is 9 and is divisible by 3\n",
    "..."
   ]
  },
  {
   "cell_type": "code",
   "execution_count": 30,
   "metadata": {},
   "outputs": [
    {
     "name": "stdout",
     "output_type": "stream",
     "text": [
      "30\n",
      "30 is divisible by 2\n",
      "30 is divisible by 3\n",
      "30 is divisible by 5\n"
     ]
    }
   ],
   "source": [
    "x=int(input())\n",
    "if(x%2==0):\n",
    "    print(\"{} is divisible by 2\".format(x))\n",
    "if(x%3==0 and x%2==0):\n",
    "     print(\"{} is divisible by 3\".format(x))\n",
    "if(x%5==0 and x%2==0):\n",
    "    print(\"{} is divisible by 5\".format(x))\n",
    "else:\n",
    "    print(\"{} is not divisible by 2,3 or 5 so output will be {}\".format(x,float(x)))"
   ]
  },
  {
   "cell_type": "markdown",
   "metadata": {},
   "source": [
    "\n",
    "# Loop or iteration or repetition or control statements\n",
    "...\n",
    "    - for -> particular range\n",
    "        Syntax:\n",
    "            range(n)->starting with 0 and ends with n-1\n",
    "            range(n,n)->starting with n and ends with n-1\n",
    "            range(n,n,s)->starting with n and ends with n-1 with stop s\n",
    "            for iterable in range()\n",
    "                //statements\n",
    "                \n",
    "    - while -> particular range and infinity\n",
    "        Syntax:\n",
    "            while(condition):\n",
    "                //statements\n",
    "                inc/dcr\n",
    "\n",
    "\n",
    "            start=0\n",
    "            while(condition):\n",
    "                //statements\n",
    "                inc/dcr\n",
    "..."
   ]
  },
  {
   "cell_type": "code",
   "execution_count": 46,
   "metadata": {},
   "outputs": [
    {
     "name": "stdout",
     "output_type": "stream",
     "text": [
      "3\n",
      "0,1,2\n"
     ]
    }
   ],
   "source": [
    "x=int(input())\n",
    "for i in range(x):\n",
    "    if(i==x-1):\n",
    "        print(i)\n",
    "    else:\n",
    "        print(i,end=\",\")\n",
    "    "
   ]
  },
  {
   "cell_type": "code",
   "execution_count": null,
   "metadata": {},
   "outputs": [],
   "source": [
    "\n"
   ]
  }
 ],
 "metadata": {
  "kernelspec": {
   "display_name": "Python 3",
   "language": "python",
   "name": "python3"
  },
  "language_info": {
   "codemirror_mode": {
    "name": "ipython",
    "version": 3
   },
   "file_extension": ".py",
   "mimetype": "text/x-python",
   "name": "python",
   "nbconvert_exporter": "python",
   "pygments_lexer": "ipython3",
   "version": "3.7.4"
  }
 },
 "nbformat": 4,
 "nbformat_minor": 2
}
